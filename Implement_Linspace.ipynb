{
  "nbformat": 4,
  "nbformat_minor": 0,
  "metadata": {
    "colab": {
      "name": "Alekhyo Banerjee - Linspace.ipynb",
      "provenance": [],
      "collapsed_sections": []
    },
    "kernelspec": {
      "name": "python3",
      "display_name": "Python 3"
    }
  },
  "cells": [
    {
      "cell_type": "code",
      "metadata": {
        "id": "VzliLepf6k4H",
        "colab_type": "code",
        "colab": {}
      },
      "source": [
        "def linspace(start,stop,division,endpoint=True,retstep=False):\n",
        "    \"\"\"\n",
        "                   This function return evenly spaced numbers over a specified interval.\n",
        "                   Date:07/02/2020\n",
        "                   Created By:Alekhyo\n",
        "                   Input:float/integer,float/integer,integer\n",
        "                   Output:list\n",
        "    \"\"\"\n",
        "    try:\n",
        "      array=[]\n",
        "      if endpoint==True:\n",
        "          value_per_division=(stop-start)/(division-1)\n",
        "      elif endpoint==False:\n",
        "          value_per_division=(stop-start)/(division)\n",
        "          \n",
        "      for i in range(0,division):\n",
        "          array.append(start+i*value_per_division)\n",
        "      \n",
        "      if retstep==True:\n",
        "          print(array,\"restep: \",value_per_division)\n",
        "      elif retstep==False:\n",
        "          print(array)\n",
        "          \n",
        "    except:\n",
        "      print(\"The given division input is not an integer\")\n",
        "      "
      ],
      "execution_count": 0,
      "outputs": []
    },
    {
      "cell_type": "code",
      "metadata": {
        "id": "AzRVlVlY9J5o",
        "colab_type": "code",
        "outputId": "c16e0437-f6e3-4926-c9fd-d9a764eb2511",
        "colab": {
          "base_uri": "https://localhost:8080/",
          "height": 54
        }
      },
      "source": [
        "linspace(10,20,11,endpoint=False)"
      ],
      "execution_count": 5,
      "outputs": [
        {
          "output_type": "stream",
          "text": [
            "[10.0, 10.909090909090908, 11.818181818181818, 12.727272727272727, 13.636363636363637, 14.545454545454545, 15.454545454545453, 16.363636363636363, 17.272727272727273, 18.18181818181818, 19.09090909090909]\n"
          ],
          "name": "stdout"
        }
      ]
    },
    {
      "cell_type": "code",
      "metadata": {
        "id": "A31jQnjz-wUR",
        "colab_type": "code",
        "outputId": "5c2c2a25-e772-4b2f-baf4-0418371a004d",
        "colab": {
          "base_uri": "https://localhost:8080/",
          "height": 34
        }
      },
      "source": [
        "linspace(10,20,5,endpoint=True,retstep=True)"
      ],
      "execution_count": 6,
      "outputs": [
        {
          "output_type": "stream",
          "text": [
            "[10.0, 12.5, 15.0, 17.5, 20.0] restep:  2.5\n"
          ],
          "name": "stdout"
        }
      ]
    },
    {
      "cell_type": "code",
      "metadata": {
        "id": "ViUpWGGX_y0I",
        "colab_type": "code",
        "colab": {}
      },
      "source": [
        ""
      ],
      "execution_count": 0,
      "outputs": []
    }
  ]
}
