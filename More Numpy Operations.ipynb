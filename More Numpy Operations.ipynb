{
  "nbformat": 4,
  "nbformat_minor": 0,
  "metadata": {
    "colab": {
      "name": "Copy of Numpy-assessment.ipynb",
      "provenance": [],
      "collapsed_sections": [],
      "include_colab_link": true
    },
    "kernelspec": {
      "name": "python3",
      "display_name": "Python 3"
    }
  },
  "cells": [
    {
      "cell_type": "markdown",
      "metadata": {
        "id": "view-in-github",
        "colab_type": "text"
      },
      "source": [
        "<a href=\"https://colab.research.google.com/github/Alekhyo/Numpy/blob/master/More%20Numpy%20Operations.ipynb\" target=\"_parent\"><img src=\"https://colab.research.google.com/assets/colab-badge.svg\" alt=\"Open In Colab\"/></a>"
      ]
    },
    {
      "cell_type": "markdown",
      "metadata": {
        "id": "cCSwE1Usg72w",
        "colab_type": "text"
      },
      "source": [
        "Q1. **Get the positions where elements of a and b match**\n",
        "\n",
        "Input:\n",
        "\n",
        "a = np.array([1,2,3,2,3,4,3,4,5,6])\n",
        "b = np.array([7,2,10,2,7,4,9,4,9,8])\n",
        "\n",
        "Output:\n",
        "\n",
        "(array([1, 3, 5, 7]),)\n",
        "\n"
      ]
    },
    {
      "cell_type": "code",
      "metadata": {
        "id": "1Eb4hntcuk6S",
        "colab_type": "code",
        "colab": {}
      },
      "source": [
        "import numpy as np"
      ],
      "execution_count": 0,
      "outputs": []
    },
    {
      "cell_type": "code",
      "metadata": {
        "id": "5B5wiT5hhfv7",
        "colab_type": "code",
        "colab": {}
      },
      "source": [
        "a = np.array([1,2,3,2,3,4,3,4,5,6])"
      ],
      "execution_count": 0,
      "outputs": []
    },
    {
      "cell_type": "code",
      "metadata": {
        "id": "RhhnuoIoz-N9",
        "colab_type": "code",
        "colab": {}
      },
      "source": [
        "b = np.array([7,2,10,2,7,4,9,4,9,8])"
      ],
      "execution_count": 0,
      "outputs": []
    },
    {
      "cell_type": "code",
      "metadata": {
        "id": "8SvU54cd0AfD",
        "colab_type": "code",
        "outputId": "cebaad03-b6ab-4119-f272-12bafc0d0c07",
        "colab": {
          "base_uri": "https://localhost:8080/",
          "height": 34
        }
      },
      "source": [
        "np.where(a==b)"
      ],
      "execution_count": 4,
      "outputs": [
        {
          "output_type": "execute_result",
          "data": {
            "text/plain": [
              "(array([1, 3, 5, 7]),)"
            ]
          },
          "metadata": {
            "tags": []
          },
          "execution_count": 4
        }
      ]
    },
    {
      "cell_type": "markdown",
      "metadata": {
        "id": "kKl5YKFqhNSM",
        "colab_type": "text"
      },
      "source": [
        "Q2. **Get all items between 5 and 10 from a.**\n",
        "\n",
        "a = np.array([2, 6, 1, 9, 10, 3, 27])"
      ]
    },
    {
      "cell_type": "code",
      "metadata": {
        "id": "qwC0XUjChK_T",
        "colab_type": "code",
        "outputId": "32af8594-3a5e-4d0a-8635-51d8d9c260c4",
        "colab": {
          "base_uri": "https://localhost:8080/",
          "height": 34
        }
      },
      "source": [
        "a = np.array([2, 6, 1, 9, 10, 3, 27])\n",
        "mask=a>=5\n",
        "mask1=a<=10\n",
        "a[(mask) & (mask1)]\n"
      ],
      "execution_count": 5,
      "outputs": [
        {
          "output_type": "execute_result",
          "data": {
            "text/plain": [
              "array([ 6,  9, 10])"
            ]
          },
          "metadata": {
            "tags": []
          },
          "execution_count": 5
        }
      ]
    },
    {
      "cell_type": "markdown",
      "metadata": {
        "id": "Y9nOEHJJh29V",
        "colab_type": "text"
      },
      "source": [
        "Q3. **Swap columns 1 and 2 in the array arr.**\n",
        "\n",
        "arr = np.arange(9).reshape(3,3)"
      ]
    },
    {
      "cell_type": "code",
      "metadata": {
        "id": "k-3XCKJdh8Dr",
        "colab_type": "code",
        "outputId": "e17b71be-c1ed-4ffb-d32c-0d63192ac002",
        "colab": {
          "base_uri": "https://localhost:8080/",
          "height": 67
        }
      },
      "source": [
        "arr = np.arange(9).reshape(3,3)\n",
        "arr"
      ],
      "execution_count": 6,
      "outputs": [
        {
          "output_type": "execute_result",
          "data": {
            "text/plain": [
              "array([[0, 1, 2],\n",
              "       [3, 4, 5],\n",
              "       [6, 7, 8]])"
            ]
          },
          "metadata": {
            "tags": []
          },
          "execution_count": 6
        }
      ]
    },
    {
      "cell_type": "code",
      "metadata": {
        "id": "DONnSJK_2WTN",
        "colab_type": "code",
        "outputId": "50a2b08e-3209-48b2-9038-23a75a4d8f1e",
        "colab": {
          "base_uri": "https://localhost:8080/",
          "height": 67
        }
      },
      "source": [
        "arr[::,[1,0,2]]"
      ],
      "execution_count": 7,
      "outputs": [
        {
          "output_type": "execute_result",
          "data": {
            "text/plain": [
              "array([[1, 0, 2],\n",
              "       [4, 3, 5],\n",
              "       [7, 6, 8]])"
            ]
          },
          "metadata": {
            "tags": []
          },
          "execution_count": 7
        }
      ]
    },
    {
      "cell_type": "markdown",
      "metadata": {
        "id": "kWevzjqWiAgN",
        "colab_type": "text"
      },
      "source": [
        "Q4. Reverse the rows of a 2D array arr.\n",
        "\n",
        "arr = np.arange(9).reshape(3,3)"
      ]
    },
    {
      "cell_type": "code",
      "metadata": {
        "id": "4rYagU47h_RU",
        "colab_type": "code",
        "outputId": "9c128ead-3ccf-4819-8c0e-a8bcae087424",
        "colab": {
          "base_uri": "https://localhost:8080/",
          "height": 67
        }
      },
      "source": [
        "arr = np.arange(9).reshape(3,3)\n",
        "arr"
      ],
      "execution_count": 8,
      "outputs": [
        {
          "output_type": "execute_result",
          "data": {
            "text/plain": [
              "array([[0, 1, 2],\n",
              "       [3, 4, 5],\n",
              "       [6, 7, 8]])"
            ]
          },
          "metadata": {
            "tags": []
          },
          "execution_count": 8
        }
      ]
    },
    {
      "cell_type": "code",
      "metadata": {
        "id": "5Hfqer3hzpOw",
        "colab_type": "code",
        "outputId": "b4eec0fd-e79e-47cc-d91c-61ae2453217c",
        "colab": {
          "base_uri": "https://localhost:8080/",
          "height": 67
        }
      },
      "source": [
        "arr[::-1,::]"
      ],
      "execution_count": 9,
      "outputs": [
        {
          "output_type": "execute_result",
          "data": {
            "text/plain": [
              "array([[6, 7, 8],\n",
              "       [3, 4, 5],\n",
              "       [0, 1, 2]])"
            ]
          },
          "metadata": {
            "tags": []
          },
          "execution_count": 9
        }
      ]
    },
    {
      "cell_type": "markdown",
      "metadata": {
        "id": "BijNqssxiQpx",
        "colab_type": "text"
      },
      "source": [
        "Q5. Find the 5th and 95th percentile of iris's sepallength\n",
        "Note - Find input code in the next cell"
      ]
    },
    {
      "cell_type": "code",
      "metadata": {
        "id": "4kfYgwd5ioE0",
        "colab_type": "code",
        "outputId": "97f50fbc-ab3b-478c-f621-396710aa370a",
        "colab": {
          "base_uri": "https://localhost:8080/",
          "height": 218
        }
      },
      "source": [
        "import numpy as np\n",
        "url = 'https://archive.ics.uci.edu/ml/machine-learning-databases/iris/iris.data'\n",
        "sepallength = np.genfromtxt(url, delimiter=',', dtype='float', usecols=[0])\n",
        "sepallength"
      ],
      "execution_count": 10,
      "outputs": [
        {
          "output_type": "execute_result",
          "data": {
            "text/plain": [
              "array([5.1, 4.9, 4.7, 4.6, 5. , 5.4, 4.6, 5. , 4.4, 4.9, 5.4, 4.8, 4.8,\n",
              "       4.3, 5.8, 5.7, 5.4, 5.1, 5.7, 5.1, 5.4, 5.1, 4.6, 5.1, 4.8, 5. ,\n",
              "       5. , 5.2, 5.2, 4.7, 4.8, 5.4, 5.2, 5.5, 4.9, 5. , 5.5, 4.9, 4.4,\n",
              "       5.1, 5. , 4.5, 4.4, 5. , 5.1, 4.8, 5.1, 4.6, 5.3, 5. , 7. , 6.4,\n",
              "       6.9, 5.5, 6.5, 5.7, 6.3, 4.9, 6.6, 5.2, 5. , 5.9, 6. , 6.1, 5.6,\n",
              "       6.7, 5.6, 5.8, 6.2, 5.6, 5.9, 6.1, 6.3, 6.1, 6.4, 6.6, 6.8, 6.7,\n",
              "       6. , 5.7, 5.5, 5.5, 5.8, 6. , 5.4, 6. , 6.7, 6.3, 5.6, 5.5, 5.5,\n",
              "       6.1, 5.8, 5. , 5.6, 5.7, 5.7, 6.2, 5.1, 5.7, 6.3, 5.8, 7.1, 6.3,\n",
              "       6.5, 7.6, 4.9, 7.3, 6.7, 7.2, 6.5, 6.4, 6.8, 5.7, 5.8, 6.4, 6.5,\n",
              "       7.7, 7.7, 6. , 6.9, 5.6, 7.7, 6.3, 6.7, 7.2, 6.2, 6.1, 6.4, 7.2,\n",
              "       7.4, 7.9, 6.4, 6.3, 6.1, 7.7, 6.3, 6.4, 6. , 6.9, 6.7, 6.9, 5.8,\n",
              "       6.8, 6.7, 6.7, 6.3, 6.5, 6.2, 5.9])"
            ]
          },
          "metadata": {
            "tags": []
          },
          "execution_count": 10
        }
      ]
    },
    {
      "cell_type": "code",
      "metadata": {
        "id": "iF2LMJ_by0aN",
        "colab_type": "code",
        "outputId": "ee785ad2-73c4-4245-9d58-4a09aa995879",
        "colab": {
          "base_uri": "https://localhost:8080/",
          "height": 34
        }
      },
      "source": [
        "np.percentile(sepallength,5)"
      ],
      "execution_count": 11,
      "outputs": [
        {
          "output_type": "execute_result",
          "data": {
            "text/plain": [
              "4.6"
            ]
          },
          "metadata": {
            "tags": []
          },
          "execution_count": 11
        }
      ]
    },
    {
      "cell_type": "code",
      "metadata": {
        "id": "yLdsGbsazZwX",
        "colab_type": "code",
        "outputId": "a6d4aba6-3865-4e00-ea19-a7c7dbb6c44c",
        "colab": {
          "base_uri": "https://localhost:8080/",
          "height": 34
        }
      },
      "source": [
        "np.percentile(sepallength,95)"
      ],
      "execution_count": 12,
      "outputs": [
        {
          "output_type": "execute_result",
          "data": {
            "text/plain": [
              "7.254999999999998"
            ]
          },
          "metadata": {
            "tags": []
          },
          "execution_count": 12
        }
      ]
    },
    {
      "cell_type": "markdown",
      "metadata": {
        "id": "6CYl26T1i-f4",
        "colab_type": "text"
      },
      "source": [
        "Q6. Find the positions of NaN in the sepalLength numpy array"
      ]
    },
    {
      "cell_type": "code",
      "metadata": {
        "id": "LUMeHhQCiqN5",
        "colab_type": "code",
        "outputId": "09bc5aca-c918-4d9b-a348-dcd545010ce1",
        "colab": {
          "base_uri": "https://localhost:8080/",
          "height": 218
        }
      },
      "source": [
        "# This is the input of your question\n",
        "url = 'https://archive.ics.uci.edu/ml/machine-learning-databases/iris/iris.data'\n",
        "iris_2d = np.genfromtxt(url, delimiter=',', dtype='float')\n",
        "iris_2d[np.random.randint(150, size=20), np.random.randint(4, size=20)] = np.nan\n",
        "\n",
        "sepalLength=iris_2d[:,0]\n",
        "\n",
        "sepalLength"
      ],
      "execution_count": 14,
      "outputs": [
        {
          "output_type": "execute_result",
          "data": {
            "text/plain": [
              "array([5.1, 4.9, 4.7, 4.6, 5. , 5.4, 4.6, 5. , 4.4, 4.9, 5.4, 4.8, 4.8,\n",
              "       4.3, 5.8, 5.7, 5.4, 5.1, 5.7, 5.1, 5.4, 5.1, 4.6, 5.1, 4.8, 5. ,\n",
              "       5. , 5.2, 5.2, 4.7, 4.8, 5.4, 5.2, 5.5, 4.9, 5. , 5.5, 4.9, 4.4,\n",
              "       5.1, 5. , 4.5, 4.4, 5. , 5.1, 4.8, 5.1, nan, 5.3, 5. , 7. , 6.4,\n",
              "       6.9, 5.5, 6.5, 5.7, 6.3, 4.9, 6.6, 5.2, 5. , 5.9, 6. , 6.1, 5.6,\n",
              "       6.7, 5.6, 5.8, 6.2, 5.6, 5.9, 6.1, 6.3, 6.1, 6.4, 6.6, 6.8, 6.7,\n",
              "       6. , 5.7, 5.5, 5.5, 5.8, 6. , 5.4, 6. , 6.7, 6.3, nan, 5.5, 5.5,\n",
              "       6.1, 5.8, 5. , 5.6, 5.7, 5.7, 6.2, 5.1, 5.7, 6.3, 5.8, 7.1, 6.3,\n",
              "       6.5, 7.6, 4.9, 7.3, 6.7, 7.2, nan, 6.4, 6.8, 5.7, nan, 6.4, 6.5,\n",
              "       7.7, 7.7, 6. , 6.9, 5.6, 7.7, nan, 6.7, 7.2, 6.2, nan, 6.4, 7.2,\n",
              "       7.4, 7.9, 6.4, 6.3, 6.1, 7.7, 6.3, nan, 6. , 6.9, 6.7, 6.9, 5.8,\n",
              "       6.8, 6.7, 6.7, 6.3, 6.5, 6.2, 5.9])"
            ]
          },
          "metadata": {
            "tags": []
          },
          "execution_count": 14
        }
      ]
    },
    {
      "cell_type": "code",
      "metadata": {
        "id": "aaecdo8-4Urx",
        "colab_type": "code",
        "outputId": "955a5e27-8ff4-4a2c-a64d-8bec040933da",
        "colab": {
          "base_uri": "https://localhost:8080/",
          "height": 34
        }
      },
      "source": [
        "np.where(np.isnan(sepalLength))"
      ],
      "execution_count": 21,
      "outputs": [
        {
          "output_type": "execute_result",
          "data": {
            "text/plain": [
              "(array([ 47,  88, 110, 114, 123, 127, 137]),)"
            ]
          },
          "metadata": {
            "tags": []
          },
          "execution_count": 21
        }
      ]
    },
    {
      "cell_type": "markdown",
      "metadata": {
        "id": "jFhzriKekbBa",
        "colab_type": "text"
      },
      "source": [
        "Q7 .Replace all the null values with 0 in the above used sepalLength array"
      ]
    },
    {
      "cell_type": "code",
      "metadata": {
        "id": "PnUjIs63jefg",
        "colab_type": "code",
        "outputId": "613d8104-8578-4af2-dd0e-7ea8c46bd96e",
        "colab": {
          "base_uri": "https://localhost:8080/",
          "height": 218
        }
      },
      "source": [
        "sepalLength[np.isnan(sepalLength)]=0\n",
        "sepalLength"
      ],
      "execution_count": 22,
      "outputs": [
        {
          "output_type": "execute_result",
          "data": {
            "text/plain": [
              "array([5.1, 4.9, 4.7, 4.6, 5. , 5.4, 4.6, 5. , 4.4, 4.9, 5.4, 4.8, 4.8,\n",
              "       4.3, 5.8, 5.7, 5.4, 5.1, 5.7, 5.1, 5.4, 5.1, 4.6, 5.1, 4.8, 5. ,\n",
              "       5. , 5.2, 5.2, 4.7, 4.8, 5.4, 5.2, 5.5, 4.9, 5. , 5.5, 4.9, 4.4,\n",
              "       5.1, 5. , 4.5, 4.4, 5. , 5.1, 4.8, 5.1, 0. , 5.3, 5. , 7. , 6.4,\n",
              "       6.9, 5.5, 6.5, 5.7, 6.3, 4.9, 6.6, 5.2, 5. , 5.9, 6. , 6.1, 5.6,\n",
              "       6.7, 5.6, 5.8, 6.2, 5.6, 5.9, 6.1, 6.3, 6.1, 6.4, 6.6, 6.8, 6.7,\n",
              "       6. , 5.7, 5.5, 5.5, 5.8, 6. , 5.4, 6. , 6.7, 6.3, 0. , 5.5, 5.5,\n",
              "       6.1, 5.8, 5. , 5.6, 5.7, 5.7, 6.2, 5.1, 5.7, 6.3, 5.8, 7.1, 6.3,\n",
              "       6.5, 7.6, 4.9, 7.3, 6.7, 7.2, 0. , 6.4, 6.8, 5.7, 0. , 6.4, 6.5,\n",
              "       7.7, 7.7, 6. , 6.9, 5.6, 7.7, 0. , 6.7, 7.2, 6.2, 0. , 6.4, 7.2,\n",
              "       7.4, 7.9, 6.4, 6.3, 6.1, 7.7, 6.3, 0. , 6. , 6.9, 6.7, 6.9, 5.8,\n",
              "       6.8, 6.7, 6.7, 6.3, 6.5, 6.2, 5.9])"
            ]
          },
          "metadata": {
            "tags": []
          },
          "execution_count": 22
        }
      ]
    },
    {
      "cell_type": "markdown",
      "metadata": {
        "id": "wxTOw6hykmko",
        "colab_type": "text"
      },
      "source": [
        "Q8. Find the 2nd largest value for the given array."
      ]
    },
    {
      "cell_type": "code",
      "metadata": {
        "id": "4_HOzJJOk78a",
        "colab_type": "code",
        "outputId": "57d11933-e78b-44e5-f336-5e256a60dfb5",
        "colab": {
          "base_uri": "https://localhost:8080/",
          "height": 67
        }
      },
      "source": [
        "# Input\n",
        "arr=np.random.randint(23,78, size=9).reshape(3,3)\n",
        "arr"
      ],
      "execution_count": 24,
      "outputs": [
        {
          "output_type": "execute_result",
          "data": {
            "text/plain": [
              "array([[42, 65, 74],\n",
              "       [52, 24, 48],\n",
              "       [23, 40, 51]])"
            ]
          },
          "metadata": {
            "tags": []
          },
          "execution_count": 24
        }
      ]
    },
    {
      "cell_type": "code",
      "metadata": {
        "id": "AOqvvYKZw8_4",
        "colab_type": "code",
        "outputId": "3c9da322-def2-4158-8d22-a1f213bcba6f",
        "colab": {
          "base_uri": "https://localhost:8080/",
          "height": 34
        }
      },
      "source": [
        "arr=arr.ravel()\n",
        "arr=np.unique(arr)\n",
        "np.sort(arr)[-2]"
      ],
      "execution_count": 25,
      "outputs": [
        {
          "output_type": "execute_result",
          "data": {
            "text/plain": [
              "65"
            ]
          },
          "metadata": {
            "tags": []
          },
          "execution_count": 25
        }
      ]
    },
    {
      "cell_type": "markdown",
      "metadata": {
        "id": "qCccgKVnlKpZ",
        "colab_type": "text"
      },
      "source": [
        "Q9. From the array a, replace all values greater than 30 by 30 and less than 10 by 10."
      ]
    },
    {
      "cell_type": "code",
      "metadata": {
        "id": "r7ebd8SnlEn8",
        "colab_type": "code",
        "outputId": "96ef9ab1-2052-4f6d-e3cb-e9bd1a8d7c80",
        "colab": {
          "base_uri": "https://localhost:8080/",
          "height": 67
        }
      },
      "source": [
        "# Input\n",
        "arr=np.random.randint(1,78, size=9).reshape(3,3)\n",
        "arr\n"
      ],
      "execution_count": 26,
      "outputs": [
        {
          "output_type": "execute_result",
          "data": {
            "text/plain": [
              "array([[26, 68,  2],\n",
              "       [53, 22, 65],\n",
              "       [53, 34, 59]])"
            ]
          },
          "metadata": {
            "tags": []
          },
          "execution_count": 26
        }
      ]
    },
    {
      "cell_type": "code",
      "metadata": {
        "id": "CHvahGIovsvO",
        "colab_type": "code",
        "outputId": "97bbaa44-3d2e-4ee9-9699-0c74ff618494",
        "colab": {
          "base_uri": "https://localhost:8080/",
          "height": 67
        }
      },
      "source": [
        "#Masking\n",
        "arr[arr>30]=30\n",
        "arr[arr<10]=10\n",
        "arr"
      ],
      "execution_count": 28,
      "outputs": [
        {
          "output_type": "execute_result",
          "data": {
            "text/plain": [
              "array([[26, 30, 10],\n",
              "       [30, 22, 30],\n",
              "       [30, 30, 30]])"
            ]
          },
          "metadata": {
            "tags": []
          },
          "execution_count": 28
        }
      ]
    },
    {
      "cell_type": "markdown",
      "metadata": {
        "id": "BtdfUWj0lyMf",
        "colab_type": "text"
      },
      "source": [
        "Q10. Drop all nan values from a 1D numpy array"
      ]
    },
    {
      "cell_type": "code",
      "metadata": {
        "id": "jd09glLJlsg4",
        "colab_type": "code",
        "outputId": "41535954-6631-4f2a-d62b-664d16ffa31f",
        "colab": {
          "base_uri": "https://localhost:8080/",
          "height": 34
        }
      },
      "source": [
        "arr=np.array([1,2,3,np.nan,5,6,7,np.nan])\n",
        "arr\n",
        "\n",
        "# Write code here"
      ],
      "execution_count": 29,
      "outputs": [
        {
          "output_type": "execute_result",
          "data": {
            "text/plain": [
              "array([ 1.,  2.,  3., nan,  5.,  6.,  7., nan])"
            ]
          },
          "metadata": {
            "tags": []
          },
          "execution_count": 29
        }
      ]
    },
    {
      "cell_type": "code",
      "metadata": {
        "id": "BXJ-SXHMnZew",
        "colab_type": "code",
        "outputId": "3775e886-6524-4f60-b78a-60904ea61025",
        "colab": {
          "base_uri": "https://localhost:8080/",
          "height": 34
        }
      },
      "source": [
        "arr=arr[np.isnan(arr)==False]\n",
        "arr"
      ],
      "execution_count": 35,
      "outputs": [
        {
          "output_type": "execute_result",
          "data": {
            "text/plain": [
              "array([1., 2., 3., 5., 6., 7.])"
            ]
          },
          "metadata": {
            "tags": []
          },
          "execution_count": 35
        }
      ]
    }
  ]
}